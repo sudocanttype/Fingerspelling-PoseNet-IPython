{
 "cells": [
  {
   "cell_type": "code",
   "execution_count": 1,
   "id": "461a86ab-b934-41f2-9e86-93c6e5a6d94c",
   "metadata": {
    "editable": true,
    "slideshow": {
     "slide_type": ""
    },
    "tags": []
   },
   "outputs": [],
   "source": [
    "import numpy as np\n",
    "import pandas as pd\n",
    "import cv2\n",
    "import mediapipe as mp"
   ]
  },
  {
   "cell_type": "code",
   "execution_count": 2,
   "id": "ee8e9f4f-bb37-4583-a5df-a135685ffa20",
   "metadata": {},
   "outputs": [],
   "source": [
    "baseline = np.load('images0001.npy')\n",
    "kaggle = pd.read_parquet('5414471.parquet')\n"
   ]
  },
  {
   "cell_type": "code",
   "execution_count": 3,
   "id": "eab47908-1e00-4ec1-8d60-bd9187cb2fa2",
   "metadata": {},
   "outputs": [
    {
     "data": {
      "text/plain": [
       "586"
      ]
     },
     "execution_count": 3,
     "metadata": {},
     "output_type": "execute_result"
    }
   ],
   "source": [
    "# ordered body_data, face_data, lh_data, rh_data, body_world_data\n",
    "# body_data\n",
    "len(baseline)\n"
   ]
  },
  {
   "cell_type": "code",
   "execution_count": 4,
   "id": "1e79fdb1-9418-45ce-9d9c-ef176b506192",
   "metadata": {},
   "outputs": [
    {
     "data": {
      "text/plain": [
       "543"
      ]
     },
     "execution_count": 4,
     "metadata": {},
     "output_type": "execute_result"
    }
   ],
   "source": [
    "len([s for s in kaggle.columns if \"x\" in s])\n",
    "#pose, face, lhand, rhand"
   ]
  },
  {
   "cell_type": "code",
   "execution_count": 5,
   "id": "ee51f26a-7181-4ff9-86ed-882845320b30",
   "metadata": {},
   "outputs": [
    {
     "name": "stderr",
     "output_type": "stream",
     "text": [
      "WARNING: All log messages before absl::InitializeLog() is called are written to STDERR\n",
      "I0000 00:00:1713594051.254052 3784401 gl_context_egl.cc:85] Successfully initialized EGL. Major : 1 Minor: 5\n",
      "I0000 00:00:1713594051.270508 3784498 gl_context.cc:344] GL version: 3.2 (OpenGL ES 3.2 NVIDIA 550.67), renderer: NVIDIA GeForce GTX 745/PCIe/SSE2\n",
      "INFO: Created TensorFlow Lite XNNPACK delegate for CPU.\n"
     ]
    },
    {
     "name": "stdout",
     "output_type": "stream",
     "text": [
      "(720, 1280, 3)\n",
      "33\n",
      "468\n",
      "21\n",
      "21\n",
      "33\n"
     ]
    }
   ],
   "source": [
    "mp_holistic = mp.solutions.holistic\n",
    "\n",
    "BG_COLOR = (192, 192, 192) # gray\n",
    "\n",
    "BODY_POINTS = mp_holistic.PoseLandmark._member_names_\n",
    "BODY_LIMBS = [(int(a), int(b)) for a, b in mp_holistic.POSE_CONNECTIONS]\n",
    "\n",
    "HAND_POINTS = mp_holistic.HandLandmark._member_names_\n",
    "HAND_LIMBS = [(int(a), int(b)) for a, b in mp_holistic.HAND_CONNECTIONS]\n",
    "\n",
    "FACE_POINTS_NUM = lambda additional_points=0: additional_points + 468\n",
    "FACE_POINTS = lambda additional_points=0: [str(i) for i in range(FACE_POINTS_NUM(additional_points))]\n",
    "FACE_LIMBS = [(int(a), int(b)) for a, b in mp_holistic.FACEMESH_TESSELATION]\n",
    "\n",
    "def component_points(component, width: int, height: int, num: int):\n",
    "    if component is not None:\n",
    "        lm = component.landmark\n",
    "        return np.array([[p.x * width, p.y * height, p.z] for p in lm]), np.ones(num)\n",
    "\n",
    "    return np.zeros((num, 3)), np.zeros(num)\n",
    "\n",
    "def body_points(component, width: int, height: int, num: int):\n",
    "    if component is not None:\n",
    "        lm = component.landmark\n",
    "        return np.array([[p.x * width, p.y * height, p.z] for p in lm]), np.array([p.visibility for p in lm])\n",
    "        #return np.array([[p.x, p.y, p.z] for p in lm]), np.array([p.visibility for p in lm])\n",
    "\n",
    "    return np.zeros((num, 3)), np.zeros(num)\n",
    "\n",
    "\n",
    "with mp_holistic.Holistic(\n",
    "    static_image_mode=False,\n",
    "    model_complexity=2,\n",
    "    enable_segmentation=False,\n",
    "    refine_face_landmarks=False) as holistic:\n",
    "\n",
    "    datas = []\n",
    "    confs = []\n",
    "    file = \"test.jpg\"\n",
    "    image = cv2.imread(file)\n",
    "    image_height, image_width, _ = image.shape\n",
    "    print(image.shape)\n",
    "    h, w, _ = image.shape\n",
    "    \n",
    "    # Convert the BGR image to RGB before processing.\n",
    "    results = holistic.process(cv2.cvtColor(image, cv2.COLOR_BGR2RGB))\n",
    "    \n",
    "    body_data, body_confidence = body_points(results.pose_landmarks, w, h, 33)\n",
    "    face_data, face_confidence = component_points(results.face_landmarks, w, h,\n",
    "                                            FACE_POINTS_NUM(0))\n",
    "    lh_data, lh_confidence = component_points(results.left_hand_landmarks, w, h, 21)\n",
    "    rh_data, rh_confidence = component_points(results.right_hand_landmarks, w, h, 21)\n",
    "    body_world_data, body_world_confidence = body_points(results.pose_world_landmarks, w, h, 33)\n",
    "    \n",
    "    data = np.concatenate([body_data, face_data, lh_data, rh_data, body_world_data])\n",
    "    conf = np.concatenate([body_confidence, face_confidence, lh_confidence, rh_confidence, body_world_confidence])\n",
    "    print(len(body_data))\n",
    "    print(len(face_data))\n",
    "    print(len(lh_data))\n",
    "    print(len(rh_data))\n",
    "    print(len(body_world_data))\n",
    "    \n",
    "    \n",
    "    datas.append(data)\n",
    "    confs.append(conf)\n",
    "    \n",
    "    numpy_res = np.concatenate((data,conf[:,None]),axis= 1)\n",
    "    np.save(\"testnpy.npy\",numpy_res)"
   ]
  },
  {
   "cell_type": "code",
   "execution_count": 6,
   "id": "73075567-fe0b-44d7-88fa-5910aeed61ab",
   "metadata": {},
   "outputs": [],
   "source": [
    "baseline = np.load('testnpy.npy')\n"
   ]
  },
  {
   "cell_type": "code",
   "execution_count": 7,
   "id": "afe5eed8-5956-44e2-afe8-fee783895f64",
   "metadata": {},
   "outputs": [
    {
     "data": {
      "text/plain": [
       "True"
      ]
     },
     "execution_count": 7,
     "metadata": {},
     "output_type": "execute_result"
    }
   ],
   "source": [
    "np.all(baseline[33:501][:,:-1]==face_data)"
   ]
  },
  {
   "cell_type": "code",
   "execution_count": 8,
   "id": "4762d6ea-009f-4bb0-9c5f-fcc9de5be4cd",
   "metadata": {},
   "outputs": [
    {
     "data": {
      "text/plain": [
       "True"
      ]
     },
     "execution_count": 8,
     "metadata": {},
     "output_type": "execute_result"
    }
   ],
   "source": [
    "np.all(baseline[501:522][:,:-1]==lh_data)"
   ]
  },
  {
   "cell_type": "code",
   "execution_count": 9,
   "id": "29f69a13-1fdb-4d4c-be2a-d73e562113f2",
   "metadata": {},
   "outputs": [
    {
     "data": {
      "text/plain": [
       "True"
      ]
     },
     "execution_count": 9,
     "metadata": {},
     "output_type": "execute_result"
    }
   ],
   "source": [
    "np.all(baseline[522:543][:,:-1]==rh_data)"
   ]
  },
  {
   "cell_type": "code",
   "execution_count": 10,
   "id": "574ac30b-1182-41ce-bc6f-4e2720ad92cc",
   "metadata": {},
   "outputs": [
    {
     "name": "stderr",
     "output_type": "stream",
     "text": [
      "Clipping input data to the valid range for imshow with RGB data ([0..1] for floats or [0..255] for integers).\n"
     ]
    },
    {
     "data": {
      "text/plain": [
       "<matplotlib.image.AxesImage at 0x7005202d3c90>"
      ]
     },
     "execution_count": 10,
     "metadata": {},
     "output_type": "execute_result"
    },
    {
     "data": {
      "image/png": "[encoded data removed]",
      "text/plain": [
       "<Figure size 600x900 with 1 Axes>"
      ]
     },
     "metadata": {},
     "output_type": "display_data"
    }
   ],
   "source": [
    "import matplotlib.pyplot as plt\n",
    "from mediapipe.framework.formats import landmark_pb2\n",
    "mp_hands = mp.solutions.hands\n",
    "mp_drawing = mp.solutions.drawing_utils \n",
    "mp_drawing_styles = mp.solutions.drawing_styles\n",
    "mp_pose = mp.solutions.pose\n",
    "# Sample array of poinmp_hands = mediapipe.solutions.handsts\n",
    "points = baseline[501:522]\n",
    "\n",
    "# Extract x and y coordinates from the points\n",
    "x_values = [point[0]/1280 for point in points]\n",
    "y_values = [point[1]/720 for point in points]\n",
    "z_values = [point[2] for point in points]\n",
    "\n",
    "\n",
    "right_hand_image = np.zeros((600, 600, 3))\n",
    "right_hand_landmarks = landmark_pb2.NormalizedLandmarkList()\n",
    "\n",
    "for x, y, z in zip(x_values, y_values, z_values):\n",
    "    right_hand_landmarks.landmark.add(x=x, y=y, z=z)\n",
    "\n",
    "mp_drawing.draw_landmarks(\n",
    "        right_hand_image,\n",
    "        right_hand_landmarks,\n",
    "        mp_hands.HAND_CONNECTIONS,\n",
    "        landmark_drawing_spec=mp_drawing_styles.get_default_hand_landmarks_style())\n",
    "\n",
    "# Plot the points\n",
    "fig = plt.figure(figsize=(6, 9))\n",
    "ax = plt.Axes(fig, [0., 0., 1., 1.])\n",
    "ax.set_axis_off()\n",
    "fig.add_axes(ax)\n",
    "ax.imshow(right_hand_image, cmap=\"gray\")\n",
    "\n"
   ]
  },
  {
   "cell_type": "code",
   "execution_count": 76,
   "id": "b8348c79-12b8-45a0-904a-2b81e43c6d2e",
   "metadata": {},
   "outputs": [
    {
     "data": {
      "text/plain": [
       "1629"
      ]
     },
     "execution_count": 76,
     "metadata": {},
     "output_type": "execute_result"
    }
   ],
   "source": [
    "# x -> y -> z\n",
    "#face -> lhand -> pose -> rhand\n",
    "X_COLS=[f'x_face_{i}' for i in range(468)]+[f'x_left_hand_{i}' for i in range(21)]+[f'x_pose_{i}' for i in range(33)]+[f'x_right_hand_{i}' for i in range(21)]\n",
    "Y_COLS=[f'y_face_{i}' for i in range(468)]+[f'y_left_hand_{i}' for i in range(21)]+[f'y_pose_{i}' for i in range(33)]+[f'y_right_hand_{i}' for i in range(21)]\n",
    "Z_COLS=[f'z_face_{i}' for i in range(468)]+[f'z_left_hand_{i}' for i in range(21)]+[f'z_pose_{i}' for i in range(33)]+[f'z_right_hand_{i}' for i in range(21)]\n",
    "\n",
    "#also need sequence ID\n",
    "ALL_COLS=X_COLS + Y_COLS + Z_COLS\n",
    "len(ALL_COLS)\n",
    "\n",
    "#ALL_COLS = [\"phrase\", \"frame\", \"sequence_id\"] + ALL_COLS\n",
    "#difference of 30 from the 10 extra face points"
   ]
  },
  {
   "cell_type": "code",
   "execution_count": 77,
   "id": "c2bd23bc-b0a9-4dcb-a47d-216f2eee9c41",
   "metadata": {
    "editable": true,
    "slideshow": {
     "slide_type": ""
    },
    "tags": []
   },
   "outputs": [
    {
     "name": "stdout",
     "output_type": "stream",
     "text": [
      "543\n"
     ]
    }
   ],
   "source": [
    "print(len(baseline[:-33]))\n",
    "#breakdown of baseline into each part\n",
    "bruh = baseline[:-33]\n",
    "#rearranging time\n",
    "x = bruh[:,0]\n",
    "y = bruh[:,1]\n",
    "z = bruh[:,2]\n",
    "\n",
    "x_rearr = np.concatenate((x[33:501] , x[501:522] , x[0:33] , x[522:543])) \n",
    "y_rearr = np.concatenate((y[33:501] , y[501:522] , y[0:33] , y[522:543])) \n",
    "\n",
    "            #baseline code scales it up by the width, so we undo that\n",
    "z_rearr = np.concatenate((z[33:501] , z[501:522] , z[0:33] , z[522:543]))\n",
    "##REARRANGEMENT WORKS FINE\n",
    "\n",
    "fin_row = np.concatenate((x_rearr, y_rearr, z_rearr))\n",
    "\n",
    "#process the array into a dict for pd concatenation\n",
    "ihateeverything = {key: value for key, value in zip(ALL_COLS, fin_row)}\n"
   ]
  },
  {
   "cell_type": "code",
   "execution_count": 52,
   "id": "e9e44c75-a53b-434b-a45f-d4d2c5112962",
   "metadata": {},
   "outputs": [
    {
     "data": {
      "text/plain": [
       "[]"
      ]
     },
     "execution_count": 52,
     "metadata": {},
     "output_type": "execute_result"
    }
   ],
   "source": [
    "[i for i, s in enumerate(fin_row) if s == 6.18848839e+02]"
   ]
  },
  {
   "cell_type": "code",
   "execution_count": 65,
   "id": "6ab6c55a-7aad-4168-81d2-fd75c4964aa1",
   "metadata": {},
   "outputs": [
    {
     "data": {
      "text/plain": [
       "689.0001678466797"
      ]
     },
     "execution_count": 65,
     "metadata": {},
     "output_type": "execute_result"
    }
   ],
   "source": [
    "fin_row[0]"
   ]
  },
  {
   "cell_type": "code",
   "execution_count": 71,
   "id": "26c2fdb1-dc69-401c-87bf-e1c21dc2e3a2",
   "metadata": {},
   "outputs": [
    {
     "data": {
      "text/plain": [
       "array([ 6.89000168e+02,  2.29480362e+02, -1.60203390e-02])"
      ]
     },
     "execution_count": 71,
     "metadata": {},
     "output_type": "execute_result"
    }
   ],
   "source": [
    "face_data[0]"
   ]
  },
  {
   "cell_type": "code",
   "execution_count": 73,
   "id": "fe3c679d-ba32-421f-9242-67a90d32307f",
   "metadata": {},
   "outputs": [
    {
     "data": {
      "text/plain": [
       "680.9357452392578"
      ]
     },
     "execution_count": 73,
     "metadata": {},
     "output_type": "execute_result"
    }
   ],
   "source": [
    "ihateeverything[\"x_face_0\"]"
   ]
  },
  {
   "cell_type": "code",
   "execution_count": 75,
   "id": "a2e3f27e-1f37-405c-bf3d-efff4658649a",
   "metadata": {},
   "outputs": [
    {
     "data": {
      "text/plain": [
       "1632"
      ]
     },
     "execution_count": 75,
     "metadata": {},
     "output_type": "execute_result"
    }
   ],
   "source": [
    "len(ALL_COLS)"
   ]
  },
  {
   "cell_type": "code",
   "execution_count": 32,
   "id": "ceca6b79-42f0-49c6-9e7a-5f164c28f45d",
   "metadata": {},
   "outputs": [],
   "source": [
    "#this will be the final thing \n",
    "df = pd.DataFrame(columns=ALL_COLS)"
   ]
  },
  {
   "cell_type": "code",
   "execution_count": 33,
   "id": "c980a227-6336-4e3e-b494-f2ca764c7d17",
   "metadata": {},
   "outputs": [
    {
     "name": "stderr",
     "output_type": "stream",
     "text": [
      "/tmp/ipykernel_3784401/3014956364.py:2: FutureWarning: The behavior of DataFrame concatenation with empty or all-NA entries is deprecated. In a future version, this will no longer exclude empty or all-NA columns when determining the result dtypes. To retain the old behavior, exclude the relevant entries before the concat operation.\n",
      "  df = pd.concat([df, new], ignore_index=True)\n"
     ]
    }
   ],
   "source": [
    "new = pd.DataFrame([ihateeverything])\n",
    "df = pd.concat([df, new], ignore_index=True)"
   ]
  },
  {
   "cell_type": "code",
   "execution_count": 34,
   "id": "9548d9ee-7078-438c-bf0d-33ea4a32b738",
   "metadata": {},
   "outputs": [
    {
     "data": {
      "text/plain": [
       "phrase             689.000168\n",
       "frame              685.245361\n",
       "sequence_id        688.125687\n",
       "x_face_0           680.935745\n",
       "x_face_1           684.784698\n",
       "                      ...    \n",
       "z_right_hand_16     -0.061541\n",
       "z_right_hand_17      -0.06044\n",
       "z_right_hand_18           NaN\n",
       "z_right_hand_19           NaN\n",
       "z_right_hand_20           NaN\n",
       "Name: 0, Length: 1632, dtype: object"
      ]
     },
     "execution_count": 34,
     "metadata": {},
     "output_type": "execute_result"
    }
   ],
   "source": [
    "df.iloc[0]\n"
   ]
  },
  {
   "cell_type": "code",
   "execution_count": 35,
   "id": "48fa6a5a-ae79-47e0-994a-d2bcfd961bdb",
   "metadata": {},
   "outputs": [
    {
     "data": {
      "text/plain": [
       "array([404.5444869995117, 376.8435287475586, 371.61426544189453,\n",
       "       383.4691619873047, 419.8477554321289, 447.31903076171875,\n",
       "       370.81932067871094, 393.31581115722656, 434.8274612426758,\n",
       "       463.6402893066406, 382.3979949951172, 405.0572204589844,\n",
       "       443.9488220214844, 470.7232666015625, 400.772705078125,\n",
       "       421.6257858276367, 448.1871795654297, 468.1265640258789,\n",
       "       229.48036193847656, 202.50175952911377, 211.21454000473022],\n",
       "      dtype=object)"
      ]
     },
     "execution_count": 35,
     "metadata": {},
     "output_type": "execute_result"
    }
   ],
   "source": [
    "df.iloc[0].filter(regex=\"x_right_hand.*\").values"
   ]
  },
  {
   "cell_type": "code",
   "execution_count": 36,
   "id": "5c822e43-03dc-4402-8927-792b7c835535",
   "metadata": {},
   "outputs": [
    {
     "data": {
      "text/plain": [
       "array([618.84883881, 654.07913208, 660.17745972, 645.14518738,\n",
       "       646.06521606, 603.28590393, 577.66483307, 560.7611084 ,\n",
       "       545.4410553 , 573.85803223, 550.01579285, 532.085495  ,\n",
       "       516.86107635, 552.73078918, 531.00162506, 517.06718445,\n",
       "       505.81729889, 536.68212891, 519.82311249, 510.37185669,\n",
       "       503.058815  ])"
      ]
     },
     "execution_count": 36,
     "metadata": {},
     "output_type": "execute_result"
    }
   ],
   "source": [
    "x[501:522]"
   ]
  },
  {
   "cell_type": "code",
   "execution_count": 37,
   "id": "6ff8df32-cebf-48eb-90b9-b1a5cd7dabfb",
   "metadata": {},
   "outputs": [
    {
     "data": {
      "text/plain": [
       "array([[ 6.18848839e+02,  4.88871131e+02,  1.92938259e-07,\n",
       "         1.00000000e+00],\n",
       "       [ 6.54079132e+02,  4.48245964e+02, -1.16579933e-02,\n",
       "         1.00000000e+00],\n",
       "       [ 6.60177460e+02,  3.98852892e+02, -1.71479713e-02,\n",
       "         1.00000000e+00],\n",
       "       [ 6.45145187e+02,  3.56967795e+02, -2.06043702e-02,\n",
       "         1.00000000e+00],\n",
       "       [ 6.46065216e+02,  3.23565431e+02, -2.38218922e-02,\n",
       "         1.00000000e+00],\n",
       "       [ 6.03285904e+02,  3.65180740e+02, -1.44793261e-02,\n",
       "         1.00000000e+00],\n",
       "       [ 5.77664833e+02,  3.16397452e+02, -2.17522588e-02,\n",
       "         1.00000000e+00],\n",
       "       [ 5.60761108e+02,  2.89356945e+02, -2.71722395e-02,\n",
       "         1.00000000e+00],\n",
       "       [ 5.45441055e+02,  2.67044120e+02, -3.12442351e-02,\n",
       "         1.00000000e+00],\n",
       "       [ 5.73858032e+02,  3.76356883e+02, -1.31624397e-02,\n",
       "         1.00000000e+00],\n",
       "       [ 5.50015793e+02,  3.22771776e+02, -1.99224725e-02,\n",
       "         1.00000000e+00],\n",
       "       [ 5.32085495e+02,  2.89844871e+02, -2.53516342e-02,\n",
       "         1.00000000e+00],\n",
       "       [ 5.16861076e+02,  2.63409276e+02, -2.94743665e-02,\n",
       "         1.00000000e+00],\n",
       "       [ 5.52730789e+02,  3.92472067e+02, -1.24453409e-02,\n",
       "         1.00000000e+00],\n",
       "       [ 5.31001625e+02,  3.44565110e+02, -1.87092870e-02,\n",
       "         1.00000000e+00],\n",
       "       [ 5.17067184e+02,  3.14532416e+02, -2.32748315e-02,\n",
       "         1.00000000e+00],\n",
       "       [ 5.05817299e+02,  2.90338805e+02, -2.65356358e-02,\n",
       "         1.00000000e+00],\n",
       "       [ 5.36682129e+02,  4.12850976e+02, -1.25386603e-02,\n",
       "         1.00000000e+00],\n",
       "       [ 5.19823112e+02,  3.75968370e+02, -1.81886908e-02,\n",
       "         1.00000000e+00],\n",
       "       [ 5.10371857e+02,  3.53185773e+02, -2.05798876e-02,\n",
       "         1.00000000e+00],\n",
       "       [ 5.03058815e+02,  3.33244729e+02, -2.17428710e-02,\n",
       "         1.00000000e+00]])"
      ]
     },
     "execution_count": 37,
     "metadata": {},
     "output_type": "execute_result"
    }
   ],
   "source": [
    "baseline[501:522]\n"
   ]
  },
  {
   "cell_type": "code",
   "execution_count": 39,
   "id": "0cb7e974-74fc-48dd-8feb-b507426a91ec",
   "metadata": {},
   "outputs": [
    {
     "name": "stderr",
     "output_type": "stream",
     "text": [
      "Clipping input data to the valid range for imshow with RGB data ([0..1] for floats or [0..255] for integers).\n"
     ]
    },
    {
     "data": {
      "text/plain": [
       "<matplotlib.image.AxesImage at 0x7005081ac750>"
      ]
     },
     "execution_count": 39,
     "metadata": {},
     "output_type": "execute_result"
    },
    {
     "data": {
      "image/png": "[encoded data removed]",
      "text/plain": [
       "<Figure size 600x900 with 1 Axes>"
      ]
     },
     "metadata": {},
     "output_type": "display_data"
    }
   ],
   "source": [
    "import matplotlib.pyplot as plt\n",
    "from mediapipe.framework.formats import landmark_pb2\n",
    "mp_hands = mp.solutions.hands\n",
    "mp_drawing = mp.solutions.drawing_utils \n",
    "mp_drawing_styles = mp.solutions.drawing_styles\n",
    "mp_pose = mp.solutions.pose\n",
    "# Sample array of poinmp_hands = mediapipe.solutions.handsts\n",
    "points = baseline[501:522]\n",
    "\n",
    "# Extract x and y coordinates from the points\n",
    "#x_values = [point[0]/1280 for point in points]\n",
    "#y_values = [point[1]/720 for point in points]\n",
    "#z_values = [point[2] for point in points]\n",
    "\n",
    "x_values = df.iloc[0].filter(regex=\"x_left_hand.*\").values /1280\n",
    "y_values = df.iloc[0].filter(regex=\"y_left_hand.*\").values /720\n",
    "z_values = df.iloc[0].filter(regex=\"z_left_hand.*\").values\n",
    "\n",
    "right_hand_image = np.zeros((600, 600, 3))\n",
    "right_hand_landmarks = landmark_pb2.NormalizedLandmarkList()\n",
    "\n",
    "for x, y, z in zip(x_values, y_values, z_values):\n",
    "    right_hand_landmarks.landmark.add(x=x, y=y, z=z)\n",
    "\n",
    "mp_drawing.draw_landmarks(\n",
    "        right_hand_image,\n",
    "        right_hand_landmarks,\n",
    "        mp_hands.HAND_CONNECTIONS,\n",
    "        landmark_drawing_spec=mp_drawing_styles.get_default_hand_landmarks_style())\n",
    "\n",
    "\n",
    "\n",
    "# Plot the points\n",
    "fig = plt.figure(figsize=(6, 9))\n",
    "ax = plt.Axes(fig, [0., 0., 1., 1.])\n",
    "ax.set_axis_off()\n",
    "fig.add_axes(ax)\n",
    "ax.imshow(right_hand_image, cmap=\"gray\")\n",
    "\n"
   ]
  },
  {
   "cell_type": "code",
   "execution_count": null,
   "id": "d16c2544-91f2-4990-ad79-6aeaf61ea3d2",
   "metadata": {},
   "outputs": [],
   "source": []
  }
 ],
 "metadata": {
  "kernelspec": {
   "display_name": "Python 3 (ipykernel)",
   "language": "python",
   "name": "python3"
  },
  "language_info": {
   "codemirror_mode": {
    "name": "ipython",
    "version": 3
   },
   "file_extension": ".py",
   "mimetype": "text/x-python",
   "name": "python",
   "nbconvert_exporter": "python",
   "pygments_lexer": "ipython3",
   "version": "3.11.8"
  }
 },
 "nbformat": 4,
 "nbformat_minor": 5
}
